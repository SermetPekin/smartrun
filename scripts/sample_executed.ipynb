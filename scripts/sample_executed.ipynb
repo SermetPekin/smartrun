
{
 "cells": [
  {
   "cell_type": "code",
   "execution_count": 1,
   "id": "d88bc00e",
   "metadata": {
    "execution": {
     "iopub.execute_input": "2025-07-22T10:51:44.470281Z",
     "iopub.status.busy": "2025-07-22T10:51:44.470281Z",
     "iopub.status.idle": "2025-07-22T10:51:46.351527Z",
     "shell.execute_reply": "2025-07-22T10:51:46.351527Z"
    },
    "vscode": {
     "languageId": "plaintext"
    }
   },
   "outputs": [
    {
     "data": {
      "text/html": [
       "<pre style=\"white-space:pre;overflow-x:auto;line-height:normal;font-family:Menlo,'DejaVu Sans Mono',consolas,'Courier New',monospace\">Script runned\n",
       "</pre>\n"
      ],
      "text/plain": [
       "Script runned\n"
      ]
     },
     "metadata": {},
     "output_type": "display_data"
    },
    {
     "data": {
      "text/html": [
       "<pre style=\"white-space:pre;overflow-x:auto;line-height:normal;font-family:Menlo,'DejaVu Sans Mono',consolas,'Courier New',monospace\"><span style=\"color: #008080; text-decoration-color: #008080; font-weight: bold\">5</span>\n",
       "</pre>\n"
      ],
      "text/plain": [
       "\u001b[1;36m5\u001b[0m\n"
      ]
     },
     "metadata": {},
     "output_type": "display_data"
    }
   ],
   "source": [
    "import matplotlib\n",
    "\n",
    "a = 5\n",
    "from rich import print\n",
    "\n",
    "print(\"Script runned\")\n",
    "print(a)"
   ]
  }
 ],
 "metadata": {
  "language_info": {
   "codemirror_mode": {
    "name": "ipython",
    "version": 3
   },
   "file_extension": ".py",
   "mimetype": "text/x-python",
   "name": "python",
   "nbconvert_exporter": "python",
   "pygments_lexer": "ipython3",
   "version": "3.12.4"
  }
 },
 "nbformat": 4,
 "nbformat_minor": 5
}
