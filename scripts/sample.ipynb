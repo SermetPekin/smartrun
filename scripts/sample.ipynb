
{
 "cells": [
  {
   "cell_type": "code",
   "execution_count": null,
   "id": "d88bc00e",
   "metadata": {
    "vscode": {
     "languageId": "plaintext"
    }
   },
   "outputs": [],
   "source": [
    "import matplotlib\n",
    "\n",
    "a = 5\n",
    "from rich import print\n",
    "\n",
    "print(\"Script runned\")\n",
    "print(a)\n",
    "from sample1 import html"
   ]
  }
 ],
 "metadata": {
  "language_info": {
   "name": "python"
  }
 },
 "nbformat": 4,
 "nbformat_minor": 5
}
