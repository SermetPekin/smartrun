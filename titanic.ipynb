
{
 "cells": [
  {
   "cell_type": "code",
   "execution_count": null,
   "id": "99e67fe8",
   "metadata": {
    "vscode": {
     "languageId": "plaintext"
    }
   },
   "outputs": [],
   "source": [
    "# titanic.py\n",
    "import pandas as pd\n",
    "import seaborn as sns\n",
    "import matplotlib.pyplot as plt\n",
    "\n",
    "# Load dataset from GitHub\n",
    "url = \"https://raw.githubusercontent.com/datasciencedojo/datasets/master/titanic.csv\"\n",
    "df = pd.read_csv(url)\n",
    "\n",
    "# Basic stats\n",
    "print(df[[\"Survived\", \"Pclass\", \"Sex\"]].groupby([\"Pclass\", \"Sex\"]).mean())\n",
    "\n",
    "# Plot survival by class\n",
    "sns.countplot(data=df, x=\"Pclass\", hue=\"Survived\")\n",
    "plt.title(\"Survival Count by Passenger Class\")\n",
    "plt.savefig(\"titanic_survival_by_class.png\")\n",
    "print(\"Saved plot → titanic_survival_by_class.png\")\n"
   ]
  }
 ],
 "metadata": {
  "language_info": {
   "name": "python"
  }
 },
 "nbformat": 4,
 "nbformat_minor": 5
}
