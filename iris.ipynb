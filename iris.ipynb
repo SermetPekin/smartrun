
{
 "cells": [
  {
   "cell_type": "code",
   "execution_count": null,
   "id": "733ad042",
   "metadata": {
    "vscode": {
     "languageId": "plaintext"
    }
   },
   "outputs": [],
   "source": [
    "# iris.pynb\n",
    "import seaborn as sns\n",
    "import matplotlib.pyplot as plt\n",
    "\n",
    "# Load data\n",
    "df = sns.load_dataset(\"iris\")\n",
    "\n",
    "# Show first few rows and summary\n",
    "print(df.head(), end=\"\\n\\n\")\n",
    "print(df.describe(), end=\"\\n\\n\")\n",
    "\n",
    "# Plot pairwise relationships\n",
    "sns.pairplot(df, hue=\"species\")\n",
    "plt.savefig(\"iris_pairplot.png\")"
   ]
  }
 ],
 "metadata": {
  "language_info": {
   "name": "python"
  }
 },
 "nbformat": 4,
 "nbformat_minor": 5
}
